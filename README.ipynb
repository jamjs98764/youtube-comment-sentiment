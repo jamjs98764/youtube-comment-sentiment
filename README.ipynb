{
 "cells": [
  {
   "cell_type": "markdown",
   "metadata": {},
   "source": [
    "# Google Sentiment Analysis on Youtube Comments\n",
    "\n",
    "\n",
    "Key functionalities of module:\n",
    "i. Parse CSV of Youtube comments\n",
    "ii. Uses Google Natural Language API to identify sentiment of comments\n",
    "iii. Flags out top \"X\" negative comments for further action\n"
   ]
  },
  {
   "cell_type": "code",
   "execution_count": null,
   "metadata": {
    "collapsed": true
   },
   "outputs": [],
   "source": [
    "## Imports modules and sets connection to Google API\n",
    "\n",
    "# TODO : Set environment variable GOOGLE_APPLICATION_CREDENTIALS to json key\n",
    "\n",
    "import csv\n",
    "from googleapiclient import discovery\n",
    "import httplib2\n",
    "from oauth2client.client import GoogleCredentials\n",
    "\n",
    "DISCOVERY_URL = ('https://{api}.googleapis.com/'\n",
    "                '$discovery/rest?version={apiVersion}')\n",
    "\n",
    "http = httplib2.Http()\n",
    "\n",
    "credentials = GoogleCredentials.get_application_default().create_scoped(\n",
    " ['https://www.googleapis.com/auth/cloud-platform'])\n",
    "\n",
    "http=httplib2.Http()\n",
    "credentials.authorize(http)\n",
    "\n",
    "service = discovery.build('language', 'v1beta1',\n",
    "                       http=http, discoveryServiceUrl=DISCOVERY_URL)"
   ]
  },
  {
   "cell_type": "code",
   "execution_count": null,
   "metadata": {
    "collapsed": true
   },
   "outputs": [],
   "source": [
    "# Parses CSV. To be modified based on input data structure\n",
    "\n",
    "def parse_csv(file):\n",
    "\treader = csv.reader(open(file))\n",
    "\n",
    "\tresult = {}\n",
    "\tlist_keys = []\n",
    "\tfor row in reader:\n",
    "\t\tlist_keys.append(row[0])\n",
    "\t\tkey = row[0]\n",
    "\t\tresult[key] = row[1:]\n",
    "\t\t#1st column = Name of Youtube account\n",
    "\t\t#2nd column = Time\n",
    "\t\t#3rd column = Timestamp\n",
    "\t\t#4th column = Comment snippet\n",
    "\t\t#5th column = Number of likes\n",
    "\treturn list_keys, result"
   ]
  },
  {
   "cell_type": "code",
   "execution_count": null,
   "metadata": {
    "collapsed": true
   },
   "outputs": [],
   "source": [
    "def each_sentiment(comment):\n",
    "\tservice_request = service.documents().analyzeSentiment(\n",
    "\tbody={\n",
    "\t 'document': {\n",
    "\t    'type': 'PLAIN_TEXT',\n",
    "\t    'content': comment\n",
    "\t }\n",
    "\t})\n",
    "\n",
    "\tresponse = service_request.execute()\n",
    "\tpolarity = response['documentSentiment']['polarity']\n",
    "\tmagnitude = response['documentSentiment']['magnitude']\n",
    "\tscore = polarity*magnitude\n",
    "\treturn score,polarity, magnitude\n",
    "\n",
    "\n",
    "def all_sentiment(list_keys,result,limit_comment):\n",
    "\tresult_sentiment = {}\n",
    "\tfor key in list_keys[1:limit_comment]:\n",
    "\t\tcomment_snippet = result[key][3]\n",
    "\t\ttry: \n",
    "\t\t\tresult_sentiment[key] = each_sentiment(comment_snippet)\n",
    "\t\texcept HttpError:\n",
    "\t\t\tresult_sentiment[key] = (0,0,0)\n",
    "\treturn result_sentiment\t\n",
    "\n",
    "\n",
    "def sort_negative(result,result_sentiment,limit):\n",
    "\tsorted_keys = sorted(result_sentiment,key=result_sentiment.get)\n",
    "\tsorted_keys = sorted_keys[0:limit]\n",
    "\tfor key in sorted_keys:\n",
    "\t\tprint (\"Comment: \" + result[key][3] +\n",
    "\t\t\t\"\\n Score: \" + str(result_sentiment[key][0]) +\n",
    "\t\t\t\"\\n ID: \" + str(key) + \"\\n\"\n",
    "\t\t\t)\n",
    "\treturn None"
   ]
  },
  {
   "cell_type": "markdown",
   "metadata": {},
   "source": [
    "Code below is wrapper for whole script.\n",
    "\n",
    "Key things to specify:\n",
    "i. File = file_name.csv\n",
    "ii. num_scrap = First X chronological comments to be scrapped (useful as Google API has limit)\n",
    "iii. num_print = Prints X most negative comments"
   ]
  },
  {
   "cell_type": "code",
   "execution_count": null,
   "metadata": {
    "collapsed": true
   },
   "outputs": [],
   "source": [
    "def main(file,limit_comment,limit_result):\n",
    "\tlist_keys,result = parse_csv(file)\n",
    "\tresult_sentiment = all_sentiment(list_keys,result,limit_comment)\n",
    "\tsort_negative(result,result_sentiment,limit_result)\n",
    "\treturn None\n",
    "\n",
    "if __name__=='__main__':\n",
    "\tmain(\"file_name.csv\",num_scrap,num_print)\n"
   ]
  }
 ],
 "metadata": {
  "kernelspec": {
   "display_name": "Python [default]",
   "language": "python",
   "name": "python3"
  },
  "language_info": {
   "codemirror_mode": {
    "name": "ipython",
    "version": 3
   },
   "file_extension": ".py",
   "mimetype": "text/x-python",
   "name": "python",
   "nbconvert_exporter": "python",
   "pygments_lexer": "ipython3",
   "version": "3.5.2"
  }
 },
 "nbformat": 4,
 "nbformat_minor": 1
}
